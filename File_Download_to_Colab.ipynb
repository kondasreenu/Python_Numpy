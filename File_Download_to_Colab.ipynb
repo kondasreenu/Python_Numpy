{
  "nbformat": 4,
  "nbformat_minor": 0,
  "metadata": {
    "colab": {
      "name": "File Download to Colab.ipynb",
      "provenance": [],
      "collapsed_sections": []
    },
    "kernelspec": {
      "name": "python3",
      "display_name": "Python 3"
    }
  },
  "cells": [
    {
      "cell_type": "code",
      "metadata": {
        "colab": {
          "base_uri": "https://localhost:8080/"
        },
        "id": "yq0XalrAdmtZ",
        "outputId": "87ed52fa-40d4-4ff1-828e-2f9fac112120"
      },
      "source": [
        "# Download a file from the internet\n",
        "# Link to file on GDrive: https://drive.google.com/file/d/1kIMNI53gtTTNZrQfjB9ASh8C3K9osTB6/view?usp=sharing\n",
        "# URL Format: \"https://drive.google.com/uc?export=download&id=<fileId>\" #fileid = 1kIMNI53gtTTNZrQfjB9ASh8C3K9osTB6\n",
        "\n",
        "!wget \"https://drive.google.com/uc?export=download&id=1kIMNI53gtTTNZrQfjB9ASh8C3K9osTB6\" -O populations.txt\n",
        "\n",
        "#wget is a linux command means web get, use ! mark at start and -o means output file\n",
        "\n",
        "# for larger files, its slightly more complex and we will learn that later."
      ],
      "execution_count": 1,
      "outputs": [
        {
          "output_type": "stream",
          "name": "stdout",
          "text": [
            "--2022-03-14 14:09:34--  https://drive.google.com/uc?export=download&id=1kIMNI53gtTTNZrQfjB9ASh8C3K9osTB6\n",
            "Resolving drive.google.com (drive.google.com)... 142.250.98.139, 142.250.98.100, 142.250.98.102, ...\n",
            "Connecting to drive.google.com (drive.google.com)|142.250.98.139|:443... connected.\n",
            "HTTP request sent, awaiting response... 303 See Other\n",
            "Location: https://doc-0k-1o-docs.googleusercontent.com/docs/securesc/ha0ro937gcuc7l7deffksulhg5h7mbp1/jfaivvnjnthj6nqgt07f69l452ln4m3t/1647266925000/06629147635963609455/*/1kIMNI53gtTTNZrQfjB9ASh8C3K9osTB6?e=download [following]\n",
            "Warning: wildcards not supported in HTTP.\n",
            "--2022-03-14 14:09:34--  https://doc-0k-1o-docs.googleusercontent.com/docs/securesc/ha0ro937gcuc7l7deffksulhg5h7mbp1/jfaivvnjnthj6nqgt07f69l452ln4m3t/1647266925000/06629147635963609455/*/1kIMNI53gtTTNZrQfjB9ASh8C3K9osTB6?e=download\n",
            "Resolving doc-0k-1o-docs.googleusercontent.com (doc-0k-1o-docs.googleusercontent.com)... 173.194.214.132, 2607:f8b0:400c:c0b::84\n",
            "Connecting to doc-0k-1o-docs.googleusercontent.com (doc-0k-1o-docs.googleusercontent.com)|173.194.214.132|:443... connected.\n",
            "HTTP request sent, awaiting response... 200 OK\n",
            "Length: 525 [text/plain]\n",
            "Saving to: ‘populations.txt’\n",
            "\n",
            "populations.txt     100%[===================>]     525  --.-KB/s    in 0s      \n",
            "\n",
            "2022-03-14 14:09:35 (5.25 MB/s) - ‘populations.txt’ saved [525/525]\n",
            "\n"
          ]
        }
      ]
    },
    {
      "cell_type": "code",
      "metadata": {
        "colab": {
          "base_uri": "https://localhost:8080/"
        },
        "id": "05b264ufd58V",
        "outputId": "17135ee1-c9ce-4c55-b48c-0e90b52a357f"
      },
      "source": [
        "!ls -lrt"
      ],
      "execution_count": 2,
      "outputs": [
        {
          "output_type": "stream",
          "name": "stdout",
          "text": [
            "total 8\n",
            "drwxr-xr-x 1 root root 4096 Mar  9 14:48 sample_data\n",
            "-rw-r--r-- 1 root root  525 Mar 14 14:09 populations.txt\n"
          ]
        }
      ]
    },
    {
      "cell_type": "code",
      "metadata": {
        "id": "0uTels8Pd9mL",
        "colab": {
          "base_uri": "https://localhost:8080/"
        },
        "outputId": "c4766d1a-fbf6-46be-fdad-b355f3fbf6a0"
      },
      "source": [
        "!cat populations.txt\n"
      ],
      "execution_count": 3,
      "outputs": [
        {
          "output_type": "stream",
          "name": "stdout",
          "text": [
            "# year\thare\tlynx\tcarrot\n",
            "1900\t30e3\t4e3\t48300\n",
            "1901\t47.2e3\t6.1e3\t48200\n",
            "1902\t70.2e3\t9.8e3\t41500\n",
            "1903\t77.4e3\t35.2e3\t38200\n",
            "1904\t36.3e3\t59.4e3\t40600\n",
            "1905\t20.6e3\t41.7e3\t39800\n",
            "1906\t18.1e3\t19e3\t38600\n",
            "1907\t21.4e3\t13e3\t42300\n",
            "1908\t22e3\t8.3e3\t44500\n",
            "1909\t25.4e3\t9.1e3\t42100\n",
            "1910\t27.1e3\t7.4e3\t46000\n",
            "1911\t40.3e3\t8e3\t46800\n",
            "1912\t57e3\t12.3e3\t43800\n",
            "1913\t76.6e3\t19.5e3\t40900\n",
            "1914\t52.3e3\t45.7e3\t39400\n",
            "1915\t19.5e3\t51.1e3\t39000\n",
            "1916\t11.2e3\t29.7e3\t36700\n",
            "1917\t7.6e3\t15.8e3\t41800\n",
            "1918\t14.6e3\t9.7e3\t43300\n",
            "1919\t16.2e3\t10.1e3\t41300\n",
            "1920\t24.7e3\t8.6e3\t47300\n"
          ]
        }
      ]
    },
    {
      "cell_type": "code",
      "metadata": {
        "colab": {
          "base_uri": "https://localhost:8080/"
        },
        "id": "BtOVyBLrbWE6",
        "outputId": "0bb37b78-da0f-4703-8cce-92b83ed11802"
      },
      "source": [
        "# Download file from internet\n",
        "# URL: https://raw.githubusercontent.com/scipy-lectures/scipy-lecture-notes/master/data/women_percentage.txt\n",
        "!wget \"https://raw.githubusercontent.com/scipy-lectures/scipy-lecture-notes/master/data/women_percentage.txt\" -O women_percentage.txt"
      ],
      "execution_count": 4,
      "outputs": [
        {
          "output_type": "stream",
          "name": "stdout",
          "text": [
            "--2022-03-14 14:10:17--  https://raw.githubusercontent.com/scipy-lectures/scipy-lecture-notes/master/data/women_percentage.txt\n",
            "Resolving raw.githubusercontent.com (raw.githubusercontent.com)... 185.199.108.133, 185.199.109.133, 185.199.110.133, ...\n",
            "Connecting to raw.githubusercontent.com (raw.githubusercontent.com)|185.199.108.133|:443... connected.\n",
            "HTTP request sent, awaiting response... 200 OK\n",
            "Length: 660 [text/plain]\n",
            "Saving to: ‘women_percentage.txt’\n",
            "\n",
            "women_percentage.tx 100%[===================>]     660  --.-KB/s    in 0s      \n",
            "\n",
            "2022-03-14 14:10:17 (22.7 MB/s) - ‘women_percentage.txt’ saved [660/660]\n",
            "\n"
          ]
        }
      ]
    },
    {
      "cell_type": "code",
      "metadata": {
        "colab": {
          "base_uri": "https://localhost:8080/"
        },
        "id": "hutLR2djb5FY",
        "outputId": "ad96cf26-aa32-4236-c5b0-ae930c0ab79b"
      },
      "source": [
        "!ls -l\n"
      ],
      "execution_count": 11,
      "outputs": [
        {
          "output_type": "stream",
          "name": "stdout",
          "text": [
            "total 12\n",
            "-rw-r--r-- 1 root root  525 Mar 14 14:09 populations.txt\n",
            "drwxr-xr-x 1 root root 4096 Mar  9 14:48 sample_data\n",
            "-rw-r--r-- 1 root root  660 Mar 14 14:10 women_percentage.txt\n"
          ]
        }
      ]
    },
    {
      "cell_type": "code",
      "metadata": {
        "colab": {
          "base_uri": "https://localhost:8080/"
        },
        "id": "0xZM_j_1b7Ff",
        "outputId": "d3df8566-8106-4da1-c0a9-4ed64b7b03c5"
      },
      "source": [
        "!cat women_percentage.txt"
      ],
      "execution_count": 6,
      "outputs": [
        {
          "output_type": "stream",
          "name": "stdout",
          "text": [
            "#2006\t2005\t2004\t2003\t2002\t2001\n",
            "38.2\t37.1\t37.1\t38.1\t36.7\t39.6\n",
            "26.9\t18.3\t24.4\t24.3\t24.2\t20.9\n",
            "26.2\t26.2\t25.6\t24.9\t24.4\t23.6\n",
            "27.4\t25.7\t25.6\t23.9\t23.0\t21.5\n",
            "28.0\t26.3\t24.4\t23.5\t22.3\t21.8\n",
            "28.0\t27.0\t25.2\t24.7\t24.5\t23.4\n",
            "31.9\t31.0\t30.9\t31.0\t30.6\t29.9\n",
            "23.5\t23.6\t23.6\t23.6\t23.6\t22.3\n",
            "26.6\t26.1\t25.7\t23.5\t24.8\t23.8\n",
            "52.9\t53.6\t53.6\t56.3\t54.7\t44.1\n",
            "41.0\t27.0\t27.0\t32.0\t31.4\t17.6\n",
            "40.4\t39.7\t38.7\t36.6\t35.7\t34.4\n",
            "32.1\t32.3\t32.3\t32.2\t31.7\t30.6\n",
            "17.4\t18.2\t19.1\t17.9\t18.2\t18.5\n",
            "50.1\t49.8\t49.9\t50.0\t50.6\t50.6\n",
            "25.2\t23.5\t24.3\t24.3\t22.3\t19.8\n",
            "37.8\t34.5\t34.1\t33.3\t30.5\t30.5\n",
            "16.3\t15.7\t15.6\t15.3\t15.1\t13.1\n",
            "14.8\t14.9\t14.6\t13.7\t14.1\t14\n",
            "51.4\t50.2\t50.0\t47.5\t49.2\t50.9\n",
            "33.5\t37.1\t32.9\t32.6\t32.3\t32.1\n",
            "\n"
          ]
        }
      ]
    }
  ]
}