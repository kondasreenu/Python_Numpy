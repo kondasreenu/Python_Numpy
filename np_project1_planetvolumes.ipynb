{
  "nbformat": 4,
  "nbformat_minor": 0,
  "metadata": {
    "colab": {
      "name": "np_project1_planetvolumes.ipynb",
      "provenance": [],
      "authorship_tag": "ABX9TyPzBk6G1sc/VFu9lPVwYqIa",
      "include_colab_link": true
    },
    "kernelspec": {
      "name": "python3",
      "display_name": "Python 3"
    },
    "language_info": {
      "name": "python"
    }
  },
  "cells": [
    {
      "cell_type": "markdown",
      "metadata": {
        "id": "view-in-github",
        "colab_type": "text"
      },
      "source": [
        "<a href=\"https://colab.research.google.com/github/kondasreenu/Python_Numpy/blob/main/np_project1_planetvolumes.ipynb\" target=\"_parent\"><img src=\"https://colab.research.google.com/assets/colab-badge.svg\" alt=\"Open In Colab\"/></a>"
      ]
    },
    {
      "cell_type": "code",
      "execution_count": 1,
      "metadata": {
        "id": "425Gss4s__ha"
      },
      "outputs": [],
      "source": [
        "import numpy as np\n"
      ]
    },
    {
      "cell_type": "code",
      "source": [
        "radii = np.array([2439.7, 6051.8, 6371, 3389.7, 69911, 58232, 25362, 24622])\n",
        "radii"
      ],
      "metadata": {
        "colab": {
          "base_uri": "https://localhost:8080/"
        },
        "id": "MtV2wyzSATO9",
        "outputId": "a7591ac6-ee86-43da-9895-f9391e940f69"
      },
      "execution_count": 3,
      "outputs": [
        {
          "output_type": "execute_result",
          "data": {
            "text/plain": [
              "array([ 2439.7,  6051.8,  6371. ,  3389.7, 69911. , 58232. , 25362. ,\n",
              "       24622. ])"
            ]
          },
          "metadata": {},
          "execution_count": 3
        }
      ]
    },
    {
      "cell_type": "code",
      "source": [
        "r = 10\n",
        "\n",
        "voulme = 4/3 * np.pi * r**3\n",
        "\n",
        "print(voulme)"
      ],
      "metadata": {
        "colab": {
          "base_uri": "https://localhost:8080/"
        },
        "id": "4JpBkPoBAsYl",
        "outputId": "e5e192fc-53f7-4d13-d6fe-d574238bdbb1"
      },
      "execution_count": 4,
      "outputs": [
        {
          "output_type": "stream",
          "name": "stdout",
          "text": [
            "4188.790204786391\n"
          ]
        }
      ]
    },
    {
      "cell_type": "code",
      "source": [
        "voulmes = 4/3 * np.pi * radii**3\n",
        "\n",
        "print(voulmes)"
      ],
      "metadata": {
        "colab": {
          "base_uri": "https://localhost:8080/"
        },
        "id": "Qc0l4yqjBDNx",
        "outputId": "4d4d3ee1-feeb-4db9-8451-3d5fd9f1c55d"
      },
      "execution_count": 5,
      "outputs": [
        {
          "output_type": "stream",
          "name": "stdout",
          "text": [
            "[6.08272087e+10 9.28415346e+11 1.08320692e+12 1.63144486e+11\n",
            " 1.43128181e+15 8.27129915e+14 6.83343557e+13 6.25257040e+13]\n"
          ]
        }
      ]
    },
    {
      "cell_type": "code",
      "source": [
        "radii = np.random.randint(1,1000, 10000000)\n",
        "\n",
        "radii\n",
        "\n",
        "volumes = 4/3 * np.pi * radii**3\n",
        "print(volumes)\n"
      ],
      "metadata": {
        "colab": {
          "base_uri": "https://localhost:8080/"
        },
        "id": "2fShwGsIBQZK",
        "outputId": "6a2aebab-24da-4632-ba99-a2bce00ccfa1"
      },
      "execution_count": 8,
      "outputs": [
        {
          "output_type": "stream",
          "name": "stdout",
          "text": [
            "[2.66430514e+09 7.35618581e+08 6.38915835e+07 ... 2.12062352e+09\n",
            " 5.65510541e+08 2.29270681e+09]\n"
          ]
        }
      ]
    },
    {
      "cell_type": "markdown",
      "source": [
        "Advantage:\n",
        "\n",
        "\n",
        "Speed\n",
        "\n",
        "No use of loops"
      ],
      "metadata": {
        "id": "tH61e_vwCdO_"
      }
    }
  ]
}