{
  "nbformat": 4,
  "nbformat_minor": 0,
  "metadata": {
    "colab": {
      "name": "P_Numpy_Basics.ipynb",
      "provenance": [],
      "collapsed_sections": [],
      "authorship_tag": "ABX9TyONU+rW53Tr3HtD+RtRHPyR",
      "include_colab_link": true
    },
    "kernelspec": {
      "name": "python3",
      "display_name": "Python 3"
    },
    "language_info": {
      "name": "python"
    }
  },
  "cells": [
    {
      "cell_type": "markdown",
      "metadata": {
        "id": "view-in-github",
        "colab_type": "text"
      },
      "source": [
        "<a href=\"https://colab.research.google.com/github/kondasreenu/Python_Numpy/blob/main/P_Numpy_Basics.ipynb\" target=\"_parent\"><img src=\"https://colab.research.google.com/assets/colab-badge.svg\" alt=\"Open In Colab\"/></a>"
      ]
    },
    {
      "cell_type": "markdown",
      "source": [
        "#**Introduction to Numpy**\n",
        "\n",
        "https://numpy.org/\n",
        "\n",
        "\n",
        "Key Reasons:\n",
        "\n",
        "1. Numpy is written in C\n",
        "\n",
        "2. More efficient with memory usage\n",
        "\n",
        "3. can run sub-task in parallel\n",
        "\n",
        "4. Linear algebra and Mathematics\n",
        "\n",
        "5. Image Processing\n",
        "\n"
      ],
      "metadata": {
        "id": "LCSjRUcgu913"
      }
    },
    {
      "cell_type": "markdown",
      "source": [
        "#Numpy fundamentals\n",
        "\n",
        "First Step is import\n",
        "\n",
        "import numpy as np\n",
        "\n"
      ],
      "metadata": {
        "id": "jjMzpeauvwJN"
      }
    },
    {
      "cell_type": "code",
      "execution_count": 30,
      "metadata": {
        "colab": {
          "base_uri": "https://localhost:8080/"
        },
        "id": "wT6KbJ0kuGWp",
        "outputId": "80301bd1-6125-402e-bf79-9046d434bbd7"
      },
      "outputs": [
        {
          "output_type": "stream",
          "name": "stdout",
          "text": [
            "1\n",
            "[1 2 3]\n",
            "3\n",
            "(2, 3)\n",
            "[1 2 3]\n",
            "3\n",
            "[[1 2 3]\n",
            " [4 5 6]]\n",
            "[[1 2]]\n"
          ]
        },
        {
          "output_type": "execute_result",
          "data": {
            "text/plain": [
              "array([[0.06444878, 0.21390182],\n",
              "       [0.11732586, 0.43365054],\n",
              "       [0.31034792, 0.93429106],\n",
              "       [0.26655112, 0.4099309 ],\n",
              "       [0.94015323, 0.87490974]])"
            ]
          },
          "metadata": {},
          "execution_count": 30
        }
      ],
      "source": [
        "import numpy as np\n",
        "\n",
        "my_1d_array = np.array([1,2,3])\n",
        "\n",
        "type(my_1d_array)\n",
        "\n",
        "my_1d_array.shape\n",
        "\n",
        "\n",
        "#Accessing elements\n",
        "\n",
        "print(my_1d_array[0])\n",
        "\n",
        "print(my_1d_array[0:3]) #Slicing\n",
        "\n",
        "\n",
        "print(my_1d_array[-1]) #Slicing\n",
        "\n",
        "\n",
        "\n",
        "#multi dimensional array\n",
        "\n",
        "my_2d_array = np.array([[1,2,3],[4,5,6]])\n",
        "print(my_2d_array.shape) #2 rows and 3 columns\n",
        "\n",
        "\n",
        "print(my_2d_array[0]) #0th row\n",
        "\n",
        "\n",
        "print(my_2d_array[0][2]) #0th row, 2nd element\n",
        "\n",
        "print(my_2d_array) \n",
        "\n",
        "print(my_2d_array[0:1,0:2]) #\n",
        "\n",
        "\n",
        "np.zeros(3) #1D array with 3 zeros\n",
        "\n",
        "np.zeros((3,3)) #2D array with 3 * 3 zeros\n",
        "\n",
        "np.zeros((3,3,3)) #3D array with 3 * 3 * 3 zeros, Cube Shape\n",
        "\n",
        "np.ones((3,3,3)) #3D array with 3 * 3 * 3 zeros, Cube Shape\n",
        "\n",
        "\n",
        "\n",
        "np.full((3,3),5)\n",
        "\n",
        "np.arange(10)\n",
        "\n",
        "np.arange(2,10)\n",
        "\n",
        "\n",
        "np.arange(2,10,2)\n",
        "\n",
        "\n",
        "np.linspace(1,5,10)\n",
        "\n",
        "float_array = np.linspace(1,5,10)\n",
        "\n",
        "np.round(float_array,2)\n",
        "\n",
        "np.random.rand(5)\n",
        "\n",
        "np.random.rand(5,2)\n",
        "\n",
        "\n",
        "\n",
        "\n"
      ]
    },
    {
      "cell_type": "markdown",
      "source": [
        "Numpy Array Operations\n",
        "\n",
        "\n",
        "1D Array, 2D Arrays\n",
        "\n",
        "\n",
        "Aggregate functions\n",
        "\n",
        "\n",
        "How to find maximum value in each row\n",
        "my_2d_arrray.max()\n",
        "\n",
        "my_2d_arrray.max(axis=0)\n",
        "\n",
        "my_2d_arrray.max(axis=1)\n",
        "\n",
        "my_2d_arrray.argmax(axis=0)\n",
        "\n",
        "\n",
        "\n",
        "\n",
        "\n",
        "sort()\n",
        "\n",
        "airthmetic operatiotns\n",
        "\n",
        "\n",
        "Adding constants\n",
        "\n",
        "Adding two arrays\n",
        "\n",
        "\n",
        "\n",
        "square()\n",
        "\n",
        "sqrt()\n",
        "\n",
        "\n",
        "sign()\n",
        "\n",
        "sin()\n",
        "cos()\n",
        "tan()\n",
        "\n",
        "\n",
        "np.dot(a,b)  dot product\n",
        "\n",
        "\n",
        "\n",
        "updating array elements\n",
        "\n",
        "\n",
        "np.where() where function\n",
        "\n",
        "\n",
        "\n",
        "\n",
        "np.argwhere()\n",
        "\n",
        "\n",
        "\n",
        "np.all()\n",
        "\n",
        "\n",
        "np.any()\n",
        "\n",
        "\n",
        "\n",
        "\n",
        "\n",
        "np.vstack()\n",
        "\n",
        "\n",
        "np.hstack()\n",
        "\n",
        "\n",
        "flatten()\n",
        "\n",
        "\n",
        "\n"
      ],
      "metadata": {
        "id": "1eHhawgd0UzD"
      }
    }
  ]
}