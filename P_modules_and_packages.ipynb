{
  "nbformat": 4,
  "nbformat_minor": 0,
  "metadata": {
    "colab": {
      "name": "P_modules and packages.ipynb",
      "provenance": [],
      "authorship_tag": "ABX9TyOkXg5WWShX257WYYlChyYJ"
    },
    "kernelspec": {
      "name": "python3",
      "display_name": "Python 3"
    },
    "language_info": {
      "name": "python"
    }
  },
  "cells": [
    {
      "cell_type": "markdown",
      "source": [
        "#Python Modules vs Packages\n",
        "\n",
        "**Difference between Python Module and Package**\n",
        "\n",
        "A module is basically a bunch of related code saved in a file with the extension **.py**\n",
        "\n",
        "You may choose to define functions, classes, or variables in a module. It’s also fine to include runnable code in modules.\n",
        "\n",
        "def welcome_note(course):\n",
        "  print(\"Hi Good Mornining Stundets of \" + course + \" You will understand the difference between Module and Package\")\n",
        "\n",
        "\n",
        "To have this function stored in the module welcome, save this code in a file named welcome.py\n",
        "\n",
        "\n",
        "To use this code in an application, \n",
        "  \n",
        "\n",
        "first import the respective module using the import statement. \n",
        "  \n",
        "\n",
        "Then, ready to use a function defined in this module by calling that function with the module.function() \n",
        "\n",
        "Example:\n",
        "  \n",
        "import welcome\n",
        "welcome.welcome_note(\"Python\")\n",
        "\n",
        "\n",
        "**Output**\n",
        "Hi Good Mornining Stundets of Python You will understand the difference between Module and Package\n",
        "\n",
        "#Another way of importing\n",
        "\n",
        "from welcome import welcome_note"
      ],
      "metadata": {
        "id": "xlNA9uf6mKzy"
      }
    },
    {
      "cell_type": "markdown",
      "source": [
        "\n",
        "Benefits of Modules: \n",
        "\n",
        "**Improved development process:** Python modules helps to focus on one small portion of a task rather than an entire problem. This simplifies the development process and makes it less prone to errors. Furthermore, modules are usually written in a way that minimizes interdependency. Thus, it’s more viable for a team of several programmers to work on the same application.\n",
        "\n",
        "\n",
        "The **functionality** defined in one module can be used in different parts of an application, minimizing duplicate code.\n",
        "\n",
        "**Separate namespaces:** With Python modules, separate namespaces can be defined to avoid collisions between identifiers in different parts of application."
      ],
      "metadata": {
        "id": "VLm6-oVCnMf-"
      }
    },
    {
      "cell_type": "code",
      "execution_count": 1,
      "metadata": {
        "id": "n82hXQj2mFl6"
      },
      "outputs": [],
      "source": [
        ""
      ]
    },
    {
      "cell_type": "markdown",
      "source": [
        "**Python Packages**\n",
        "\n",
        "When developing larger applications, sometimes we may end up with many different modules that are difficult to manage. \n",
        "\n",
        "\n",
        "In such a case, we will benefit from grouping and organizing modules. That’s when packages come into play.\n",
        "\n",
        "As our application program grows larger in size with a lot of modules, we place similar modules in one package and different modules in different packages. This makes a project (program) easy to manage and conceptually clear.\n",
        "\n",
        "Similar files are kept in the same directory, for example, we may keep all the songs in the \"music\" directory. \n",
        "\n",
        "Analogous to this, Python has **packages for directories and modules for files**.\n",
        "\n",
        "\n",
        "Similarly, as a directory can contain subdirectories and files, a Python package can have sub-packages and modules.\n",
        "\n",
        "To be considered a package (or subpackage), a directory must contain a file named **__init__.py** This file usually includes the initialization code for the corresponding package.\n",
        "\n",
        "This file can be left empty but we generally place the initialization code for that package in this file.\n",
        "\n",
        "\n",
        "\n"
      ],
      "metadata": {
        "id": "6_Qw5q5WntVQ"
      }
    },
    {
      "cell_type": "markdown",
      "source": [
        "![Package Example.png](data:image/png;base64,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)"
      ],
      "metadata": {
        "id": "ADv9XfT2o4KQ"
      }
    },
    {
      "cell_type": "markdown",
      "source": [
        "import specific modules from this package using the dot notation. \n",
        "\n",
        "Example: to import the dataset module from the my_model package, we can use one of the following code snippets:"
      ],
      "metadata": {
        "id": "rHaLHNVzo_hu"
      }
    },
    {
      "cell_type": "code",
      "source": [
        "import my_model.training.dataset\n",
        "\n",
        "#or\n",
        "\n",
        "from my_model.training import dataset"
      ],
      "metadata": {
        "id": "htLvbUx-pKTv"
      },
      "execution_count": null,
      "outputs": []
    },
    {
      "cell_type": "markdown",
      "source": [
        "Next, we may choose to import only the load_dataset() function from our dataset.py module. Either of the following options will do the job:\n",
        "\n"
      ],
      "metadata": {
        "id": "KSDnxrJ_pgyS"
      }
    },
    {
      "cell_type": "code",
      "source": [
        "import my_model.training.dataset.load_dataset()\n",
        "\n",
        "#or\n",
        "\n",
        "from my_model.training.dataset import load_dataset()"
      ],
      "metadata": {
        "id": "-4MgGNLwpiSd"
      },
      "execution_count": null,
      "outputs": []
    },
    {
      "cell_type": "markdown",
      "source": [
        "There are a lot of built-in and open-source Python packages\n",
        "\n",
        "\n",
        "NumPy is the fundamental Python package for scientific computing.\n",
        "\n",
        "pandas is a Python package for fast and efficient processing of tabular data, time series, matrix data, etc.\n",
        "\n",
        "\n",
        "\n",
        "\n",
        "\n",
        "\n"
      ],
      "metadata": {
        "id": "rto1eEDCpouS"
      }
    },
    {
      "cell_type": "markdown",
      "source": [
        "#**Python Libraries**\n",
        "\n",
        "While a package is a collection of modules, a library is a collection of packages.\n",
        "\n",
        "\n",
        "**Commonloy Used Python Libraries:**\n",
        "\n",
        "\n",
        "**Matplotlib** library is a standard library for generating data visualizations in Python. It supports building basic two-dimensional graphs as well as more complex animated and interactive visualizations.\n",
        "\n",
        "**PyTorch** is an open-source deep-learning library built by Facebook’s AI Research lab to implement advanced neural networks and cutting-edge research ideas in industry and academia.\n",
        "\n",
        "**pygame** provides developers with tons of convenient features and tools to make game development a more intuitive task.\n",
        "\n",
        "**Beautiful Soup** is a very popular Python library for getting data from the web. The modules and packages inside this library help extract useful information from HTML and XML files.\n"
      ],
      "metadata": {
        "id": "frJg92MZuBwz"
      }
    },
    {
      "cell_type": "markdown",
      "source": [
        "#**Python Frameworks**\n",
        "\n",
        "\n",
        "\n",
        "Similar to libraries, Python frameworks are a collection of modules and packages that help programmers to fast track the development process. \n",
        "\n",
        "However, frameworks are usually more complex than libraries. \n",
        "\n",
        "Also, while libraries contain packages that perform specific operations, frameworks contain the basic flow and architecture of the application.\n",
        "\n",
        "\n",
        "\n",
        "Django is a Python framework for building web applications with less coding. With all the necessary features included by default, developers can focus on their applications rather than dealing with routine processes.\n",
        "\n",
        "Flask is a web development framework that is known for its lightweight and modular design. It has many out-of-the-box features and is easily adaptable to specific requirements.\n",
        "\n",
        "Bottle is another lightweight framework for web development that was originally meant for building APIs. Its unique features are that it has no dependencies other than the Python Standard Library and it implements everything in a single source file."
      ],
      "metadata": {
        "id": "OKlCZi2guLY_"
      }
    }
  ]
}